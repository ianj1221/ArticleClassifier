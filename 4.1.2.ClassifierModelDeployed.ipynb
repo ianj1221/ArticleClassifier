{
 "cells": [
  {
   "cell_type": "markdown",
   "id": "1e8c53b0-2183-40c3-8261-15da824a873b",
   "metadata": {},
   "source": [
    "# 4.1.2 Loading the trained model and predicting relevancy of new entries"
   ]
  },
  {
   "cell_type": "code",
   "execution_count": 1,
   "id": "290c4c4b-04e1-4616-8351-f66db46f9a70",
   "metadata": {},
   "outputs": [
    {
     "name": "stderr",
     "output_type": "stream",
     "text": [
      "2024-02-12 10:50:13.554212: I tensorflow/core/platform/cpu_feature_guard.cc:193] This TensorFlow binary is optimized with oneAPI Deep Neural Network Library (oneDNN) to use the following CPU instructions in performance-critical operations:  SSE4.1 SSE4.2 AVX AVX2 AVX512F FMA\n",
      "To enable them in other operations, rebuild TensorFlow with the appropriate compiler flags.\n"
     ]
    }
   ],
   "source": [
    "import numpy as np\n",
    "import pandas as pd\n",
    "import os\n",
    "import re\n",
    "import shutil\n",
    "import string\n",
    "import tensorflow as tf\n",
    "import pickle"
   ]
  },
  {
   "cell_type": "code",
   "execution_count": 2,
   "id": "85a692af-3a31-4427-bbc7-a68411e8fbc0",
   "metadata": {},
   "outputs": [
    {
     "data": {
      "text/plain": [
       "'2.11.0'"
      ]
     },
     "execution_count": 2,
     "metadata": {},
     "output_type": "execute_result"
    }
   ],
   "source": [
    "tf.__version__"
   ]
  },
  {
   "cell_type": "markdown",
   "id": "9f39b82a-555e-4775-aaf0-1dca37714640",
   "metadata": {},
   "source": [
    "## Load the patent file and sample 100 unranked entries"
   ]
  },
  {
   "cell_type": "code",
   "execution_count": 3,
   "id": "7a1094cd-2052-4169-bde2-3565f9e90b2b",
   "metadata": {},
   "outputs": [
    {
     "name": "stderr",
     "output_type": "stream",
     "text": [
      "2024-02-12 10:51:47.004201: I tensorflow/core/platform/cpu_feature_guard.cc:193] This TensorFlow binary is optimized with oneAPI Deep Neural Network Library (oneDNN) to use the following CPU instructions in performance-critical operations:  SSE4.1 SSE4.2 AVX AVX2 AVX512F FMA\n",
      "To enable them in other operations, rebuild TensorFlow with the appropriate compiler flags.\n",
      "2024-02-12 10:51:47.028401: I tensorflow/core/common_runtime/process_util.cc:146] Creating new thread pool with default inter op setting: 2. Tune using inter_op_parallelism_threads for best performance.\n"
     ]
    }
   ],
   "source": [
    "#import new .xlsx\n",
    "Database_file = 'TACScrapedClean.csv'\n",
    "\n",
    "raw_data = pd.read_csv(Database_file, encoding='latin')\n",
    "\n",
    "#combine title and abstracts\n",
    "raw_data['Title_Abstract'] = raw_data['title'] + raw_data['Abstracts'].fillna('')\n",
    "\n",
    "#remove other columns\n",
    "data_TA = raw_data[['Title_Abstract', 'Relevant']]\n",
    "#isolate unranked\n",
    "\n",
    "data_unranked = data_TA[data_TA['Relevant'].isna()]\n",
    "\n",
    "data_TA_only = data_unranked['Title_Abstract']\n",
    "\n",
    "data_sample = data_TA_only.sample(n=100, random_state = 42)\n",
    "\n",
    "#convert to tensor and batch\n",
    "\n",
    "raw_sample_ds = tf.convert_to_tensor(data_sample)\n"
   ]
  },
  {
   "cell_type": "code",
   "execution_count": 4,
   "id": "00420a0b-dcfe-4da1-a26d-017f807d4371",
   "metadata": {},
   "outputs": [
    {
     "data": {
      "text/html": [
       "<div>\n",
       "<style scoped>\n",
       "    .dataframe tbody tr th:only-of-type {\n",
       "        vertical-align: middle;\n",
       "    }\n",
       "\n",
       "    .dataframe tbody tr th {\n",
       "        vertical-align: top;\n",
       "    }\n",
       "\n",
       "    .dataframe thead th {\n",
       "        text-align: right;\n",
       "    }\n",
       "</style>\n",
       "<table border=\"1\" class=\"dataframe\">\n",
       "  <thead>\n",
       "    <tr style=\"text-align: right;\">\n",
       "      <th></th>\n",
       "      <th>Title_Abstract</th>\n",
       "      <th>Relevant</th>\n",
       "    </tr>\n",
       "  </thead>\n",
       "  <tbody>\n",
       "    <tr>\n",
       "      <th>6</th>\n",
       "      <td>Method of stabilizing metal pigments against g...</td>\n",
       "      <td>NaN</td>\n",
       "    </tr>\n",
       "    <tr>\n",
       "      <th>8</th>\n",
       "      <td>Aqueous epoxy resin curing composition \\r\\r bi...</td>\n",
       "      <td>NaN</td>\n",
       "    </tr>\n",
       "    <tr>\n",
       "      <th>9</th>\n",
       "      <td>Coating compositions based on polyesters with ...</td>\n",
       "      <td>NaN</td>\n",
       "    </tr>\n",
       "    <tr>\n",
       "      <th>10</th>\n",
       "      <td>Powder coating composition with coalescing and...</td>\n",
       "      <td>NaN</td>\n",
       "    </tr>\n",
       "    <tr>\n",
       "      <th>11</th>\n",
       "      <td>Anti-contact paint composition</td>\n",
       "      <td>NaN</td>\n",
       "    </tr>\n",
       "    <tr>\n",
       "      <th>17</th>\n",
       "      <td>A multilayer structure, and a method for makin...</td>\n",
       "      <td>NaN</td>\n",
       "    </tr>\n",
       "    <tr>\n",
       "      <th>18</th>\n",
       "      <td>A curing agent \\rPURPOSE: A diamine hardener i...</td>\n",
       "      <td>NaN</td>\n",
       "    </tr>\n",
       "    <tr>\n",
       "      <th>19</th>\n",
       "      <td>Curable compositions and their use as coatings...</td>\n",
       "      <td>NaN</td>\n",
       "    </tr>\n",
       "    <tr>\n",
       "      <th>20</th>\n",
       "      <td>Coating composition of a glycidyl acrylic poly...</td>\n",
       "      <td>NaN</td>\n",
       "    </tr>\n",
       "    <tr>\n",
       "      <th>21</th>\n",
       "      <td>Methods for electrocoating a metallic substrat...</td>\n",
       "      <td>NaN</td>\n",
       "    </tr>\n",
       "    <tr>\n",
       "      <th>22</th>\n",
       "      <td>Cr-free modified epoxy wash primer high adhesi...</td>\n",
       "      <td>NaN</td>\n",
       "    </tr>\n",
       "    <tr>\n",
       "      <th>23</th>\n",
       "      <td>A method for using a primer comprising a self-...</td>\n",
       "      <td>NaN</td>\n",
       "    </tr>\n",
       "    <tr>\n",
       "      <th>24</th>\n",
       "      <td>Curable alkanolamine-containing epoxy powder c...</td>\n",
       "      <td>NaN</td>\n",
       "    </tr>\n",
       "    <tr>\n",
       "      <th>25</th>\n",
       "      <td>Thermosetting resin and use thereof \\rPROBLEM ...</td>\n",
       "      <td>NaN</td>\n",
       "    </tr>\n",
       "    <tr>\n",
       "      <th>26</th>\n",
       "      <td>Aqueous metallic paint and method for forming ...</td>\n",
       "      <td>NaN</td>\n",
       "    </tr>\n",
       "    <tr>\n",
       "      <th>27</th>\n",
       "      <td>Anti-corrosion system for coating metal surfac...</td>\n",
       "      <td>NaN</td>\n",
       "    </tr>\n",
       "    <tr>\n",
       "      <th>28</th>\n",
       "      <td>Primer and coating method using the same \\r&lt;P&gt;...</td>\n",
       "      <td>NaN</td>\n",
       "    </tr>\n",
       "    <tr>\n",
       "      <th>29</th>\n",
       "      <td>Repair method of old paint film</td>\n",
       "      <td>NaN</td>\n",
       "    </tr>\n",
       "    <tr>\n",
       "      <th>30</th>\n",
       "      <td>Production of polyurethane resin \\rPURPOSE:To ...</td>\n",
       "      <td>NaN</td>\n",
       "    </tr>\n",
       "    <tr>\n",
       "      <th>32</th>\n",
       "      <td>Coating method</td>\n",
       "      <td>NaN</td>\n",
       "    </tr>\n",
       "  </tbody>\n",
       "</table>\n",
       "</div>"
      ],
      "text/plain": [
       "                                       Title_Abstract  Relevant\n",
       "6   Method of stabilizing metal pigments against g...       NaN\n",
       "8   Aqueous epoxy resin curing composition \\r\\r bi...       NaN\n",
       "9   Coating compositions based on polyesters with ...       NaN\n",
       "10  Powder coating composition with coalescing and...       NaN\n",
       "11                    Anti-contact paint composition        NaN\n",
       "17  A multilayer structure, and a method for makin...       NaN\n",
       "18  A curing agent \\rPURPOSE: A diamine hardener i...       NaN\n",
       "19  Curable compositions and their use as coatings...       NaN\n",
       "20  Coating composition of a glycidyl acrylic poly...       NaN\n",
       "21  Methods for electrocoating a metallic substrat...       NaN\n",
       "22  Cr-free modified epoxy wash primer high adhesi...       NaN\n",
       "23  A method for using a primer comprising a self-...       NaN\n",
       "24  Curable alkanolamine-containing epoxy powder c...       NaN\n",
       "25  Thermosetting resin and use thereof \\rPROBLEM ...       NaN\n",
       "26  Aqueous metallic paint and method for forming ...       NaN\n",
       "27  Anti-corrosion system for coating metal surfac...       NaN\n",
       "28  Primer and coating method using the same \\r<P>...       NaN\n",
       "29                   Repair method of old paint film        NaN\n",
       "30  Production of polyurethane resin \\rPURPOSE:To ...       NaN\n",
       "32                                    Coating method        NaN"
      ]
     },
     "execution_count": 4,
     "metadata": {},
     "output_type": "execute_result"
    }
   ],
   "source": [
    "data_unranked.head(20)"
   ]
  },
  {
   "cell_type": "code",
   "execution_count": 5,
   "id": "0ebd7c2a-086a-470e-aabd-0e68770a4329",
   "metadata": {},
   "outputs": [
    {
     "data": {
      "text/plain": [
       "TensorShape([100])"
      ]
     },
     "execution_count": 5,
     "metadata": {},
     "output_type": "execute_result"
    }
   ],
   "source": [
    "raw_sample_ds.shape"
   ]
  },
  {
   "cell_type": "code",
   "execution_count": 6,
   "id": "aa4d4987-9223-4f3f-8dc3-bc51264059d8",
   "metadata": {},
   "outputs": [
    {
     "data": {
      "text/plain": [
       "<tf.Tensor: shape=(), dtype=string, numpy=b'Thermosetting coating material and coating method \\r<P>PROBLEM TO BE SOLVED: To obtain a thermosetting coating material which has an irregularity-filling function and rustproof and beautifying functions and can form a thick coated film.  <P>SOLUTION: After a metallic material 1 of a material to be coated is provided with chemical treatment or mechanical pretreatment to render the surface state suitable for coating, a coating film having a thickness of 10-250 \\xce\\xbcm is formed with a thermosetting coating material comprising 30-45 wt.% acrylic resin varnish, 10-20 wt.% melamine resin varnish, 5-15 wt.% epoxy resin varnish, silicon dioxide, barium sulfate, calcium carbonate, bentonite, and a monocarboxylic acid amide organic substance and is heat-cured at 150 to 190\\xc2\\xb0C to form a thermoset coated film 2.  <P>COPYRIGHT: (C)2008,JPO&INPIT  \\r'>"
      ]
     },
     "execution_count": 6,
     "metadata": {},
     "output_type": "execute_result"
    }
   ],
   "source": [
    "raw_sample_ds[0]"
   ]
  },
  {
   "cell_type": "markdown",
   "id": "e77a0368-acbb-4147-828b-b8268348101f",
   "metadata": {},
   "source": [
    "## Load vectorizer and model and apply to the data"
   ]
  },
  {
   "cell_type": "code",
   "execution_count": 6,
   "id": "130e7910-28ff-4781-838e-8c2af0f57cf5",
   "metadata": {},
   "outputs": [],
   "source": [
    "def custom_standardization(input_data):\n",
    "    lowercase = tf.strings.lower(input_data)\n",
    "    stripped_html_1 = tf.strings.regex_replace(lowercase, '\\r', ' ')\n",
    "    return tf.strings.regex_replace(stripped_html_1,\n",
    "                                  '[%s]' % re.escape(string.punctuation),\n",
    "                                  '')"
   ]
  },
  {
   "cell_type": "code",
   "execution_count": 7,
   "id": "91bf1a3a-d2c0-4de7-bbb1-fbe1e762002a",
   "metadata": {},
   "outputs": [],
   "source": [
    "max_features = 10000\n",
    "sequence_length = 500\n",
    "\n",
    "file = pickle.load(open('3.1.2ClassifierVectorizeLayer.pkl', \"rb\"))\n",
    "vectorize_layer = tf.keras.layers.TextVectorization.from_config(file['config'])\n",
    "vectorize_layer.set_weights(file['weights'])\n",
    "vectorize_layer.set_vocabulary('3.1.2.vocab.txt')"
   ]
  },
  {
   "cell_type": "code",
   "execution_count": 8,
   "id": "d889fe02-a029-45b1-973e-f12b9e270a36",
   "metadata": {},
   "outputs": [
    {
     "name": "stdout",
     "output_type": "stream",
     "text": [
      "First patent TA tf.Tensor(b'Method for the production of colour-and/or effect-endowing multicoat paint on vehicle chassis or parts thereof \\rA process for producing multicoat color and/or effect finishes on motor vehicle bodies or parts thereof (substrates), in which (I) a pigmented powder coating material is applied to the substrates, (II) the resulting powder coating film is partly or fully cured, (III) the powder coating film or powder coating is overcoated with a solid-color topcoat, with a basecoat and a clearcoat, or with a clearcoat, after which (IV) the resulting films are cured in each case individually or together with other films (wet-on-wet technique), wherein said powder coating material (A) comprises at least one carboxyl-containing polyester and (B) comprises at least one glycidyl ester of an aromatic or of a saturated or unsaturated cycloaliphatic dicarboxylic acid and/or at least one N,N,N\\xc2\\x89\\xc3\\x9b_,N\\xc2\\x89\\xc3\\x9b_-tetrakis(beta-hydroxyalkyl)alkanedicarboxamide, or (A) comprises at least one hydroxyl-containing polyester and (B) comprises at least one internally blocked uretdione of a diisocyanate. \\r', shape=(), dtype=string)\n",
      "First patent Standardized TA tf.Tensor(b'method for the production of colourandor effectendowing multicoat paint on vehicle chassis or parts thereof  a process for producing multicoat color andor effect finishes on motor vehicle bodies or parts thereof substrates in which i a pigmented powder coating material is applied to the substrates ii the resulting powder coating film is partly or fully cured iii the powder coating film or powder coating is overcoated with a solidcolor topcoat with a basecoat and a clearcoat or with a clearcoat after which iv the resulting films are cured in each case individually or together with other films wetonwet technique wherein said powder coating material a comprises at least one carboxylcontaining polyester and b comprises at least one glycidyl ester of an aromatic or of a saturated or unsaturated cycloaliphatic dicarboxylic acid andor at least one nnn\\xc2\\x89\\xc3\\x9bn\\xc2\\x89\\xc3\\x9btetrakisbetahydroxyalkylalkanedicarboxamide or a comprises at least one hydroxylcontaining polyester and b comprises at least one internally blocked uretdione of a diisocyanate  ', shape=(), dtype=string)\n",
      "First patent vectorized text tf.Tensor(\n",
      "[  25   17    5  449    7    1    1  989   37   48  441    1   16   47\n",
      "   65    4  158   17  223  989  531   75  352 1266   48 2500  441 3163\n",
      "   16   47   65   79   15   44  117    4 1533   92    8   61   13   78\n",
      "    9    5   79  152    5  733   92    8   29   13 2393   16 2768  120\n",
      "  460    5   92    8   29   16   92    8   13    1   19    4    1  363\n",
      "   19    4 1810    6    4  403   16   19    4  403  244   44 1009    5\n",
      "  733  395   43  120   15  199 1782    1   16 1115   19  197  395 1099\n",
      " 2071   54  115   92    8   61    4   52   18   23   27    1  110    6\n",
      "   31   52   18   23   27  430  145    7   10  243   16    7    4  484\n",
      "   16  259 1738 1047   42   75   18   23   27    1   16    4   52   18\n",
      "   23   27 1643  110    6   31   52   18   23   27 2642  354    1    7\n",
      "    4  566    0    0    0    0    0    0    0    0    0    0    0    0\n",
      "    0    0    0    0    0    0    0    0    0    0    0    0    0    0\n",
      "    0    0    0    0    0    0    0    0    0    0    0    0    0    0\n",
      "    0    0    0    0    0    0    0    0    0    0    0    0    0    0\n",
      "    0    0    0    0    0    0    0    0    0    0    0    0    0    0\n",
      "    0    0    0    0    0    0    0    0    0    0    0    0    0    0\n",
      "    0    0    0    0    0    0    0    0    0    0    0    0    0    0\n",
      "    0    0    0    0    0    0    0    0    0    0    0    0    0    0\n",
      "    0    0    0    0    0    0    0    0    0    0    0    0    0    0\n",
      "    0    0    0    0    0    0    0    0    0    0    0    0    0    0\n",
      "    0    0    0    0    0    0    0    0    0    0    0    0    0    0\n",
      "    0    0    0    0    0    0    0    0    0    0    0    0    0    0\n",
      "    0    0    0    0    0    0    0    0    0    0    0    0    0    0\n",
      "    0    0    0    0    0    0    0    0    0    0    0    0    0    0\n",
      "    0    0    0    0    0    0    0    0    0    0    0    0    0    0\n",
      "    0    0    0    0    0    0    0    0    0    0    0    0    0    0\n",
      "    0    0    0    0    0    0    0    0    0    0    0    0    0    0\n",
      "    0    0    0    0    0    0    0    0    0    0    0    0    0    0\n",
      "    0    0    0    0    0    0    0    0    0    0    0    0    0    0\n",
      "    0    0    0    0    0    0    0    0    0    0    0    0    0    0\n",
      "    0    0    0    0    0    0    0    0    0    0    0    0    0    0\n",
      "    0    0    0    0    0    0    0    0    0    0    0    0    0    0\n",
      "    0    0    0    0    0    0    0    0    0    0    0    0    0    0\n",
      "    0    0    0    0    0    0    0    0    0    0    0    0    0    0\n",
      "    0    0    0    0    0    0    0    0    0    0], shape=(500,), dtype=int64)\n"
     ]
    }
   ],
   "source": [
    "# checking if the layer works on one TA\n",
    "#text_batch = next(iter(raw_sample_ds))\n",
    "first_patent, = raw_sample_ds[0],\n",
    "print(\"First patent TA\", first_patent)\n",
    "print(\"First patent Standardized TA\", custom_standardization(first_patent))\n",
    "print('First patent vectorized text', vectorize_layer(first_patent))"
   ]
  },
  {
   "cell_type": "code",
   "execution_count": 9,
   "id": "cb97f063-eeb8-4e79-9f5c-a79aa1396601",
   "metadata": {},
   "outputs": [],
   "source": [
    "def vectorize_text(text):\n",
    "  #text = tf.expand_dims(text, -1)\n",
    "  return vectorize_layer(text)"
   ]
  },
  {
   "cell_type": "code",
   "execution_count": 10,
   "id": "f92bb9fb-2204-4da5-a3a5-8ccd47f7c288",
   "metadata": {},
   "outputs": [],
   "source": [
    "sample_ds = vectorize_layer(raw_sample_ds)"
   ]
  },
  {
   "cell_type": "code",
   "execution_count": 11,
   "id": "a5595112-c4d6-4c92-acda-ef8acbae4e20",
   "metadata": {},
   "outputs": [
    {
     "data": {
      "text/plain": [
       "TensorShape([100, 500])"
      ]
     },
     "execution_count": 11,
     "metadata": {},
     "output_type": "execute_result"
    }
   ],
   "source": [
    "sample_ds.shape"
   ]
  },
  {
   "cell_type": "code",
   "execution_count": 13,
   "id": "b35566b0-3268-42fe-b244-c87b39121bb3",
   "metadata": {},
   "outputs": [
    {
     "data": {
      "text/plain": [
       "<tf.Tensor: shape=(2, 500), dtype=int64, numpy=\n",
       "array([[ 302,    8,   69,    6,    8,   29,    1,    9,   53,  912,    9,\n",
       "         259,    4,  302,    8,   69,   47,   48,   10,    1, 1735,    6,\n",
       "           1,    6,    1,    1,    6,   56,   97,    4,  527,   52,   36,\n",
       "           1,  240,    4,  227,   69,   58,    7,    4,   69,    9,   53,\n",
       "          52,   12,  120,   21,  238,  581,   16,  333,  774,    9,    1,\n",
       "           5,   67, 2403,  220,   18,    8,    4,    8,   36,   26,    4,\n",
       "         403,    7,    1,  873,   12,   99,   21,    4,  302,    8,   69,\n",
       "          23,    1,  111,   90,   13,  314,    1,  111,  493,   13,  314,\n",
       "        1926,  111,   14,   13,  314,  913, 1279,  628,  652,  834,  718,\n",
       "        1862,    6,    4,  976,   57,    1,   76, 1123,    6,   12,    1,\n",
       "          17, 1352,    9,    1,    9,   97,    4,  582,   52,   36,   78,\n",
       "           1,    1,    0,    0,    0,    0,    0,    0,    0,    0,    0,\n",
       "           0,    0,    0,    0,    0,    0,    0,    0,    0,    0,    0,\n",
       "           0,    0,    0,    0,    0,    0,    0,    0,    0,    0,    0,\n",
       "           0,    0,    0,    0,    0,    0,    0,    0,    0,    0,    0,\n",
       "           0,    0,    0,    0,    0,    0,    0,    0,    0,    0,    0,\n",
       "           0,    0,    0,    0,    0,    0,    0,    0,    0,    0,    0,\n",
       "           0,    0,    0,    0,    0,    0,    0,    0,    0,    0,    0,\n",
       "           0,    0,    0,    0,    0,    0,    0,    0,    0,    0,    0,\n",
       "           0,    0,    0,    0,    0,    0,    0,    0,    0,    0,    0,\n",
       "           0,    0,    0,    0,    0,    0,    0,    0,    0,    0,    0,\n",
       "           0,    0,    0,    0,    0,    0,    0,    0,    0,    0,    0,\n",
       "           0,    0,    0,    0,    0,    0,    0,    0,    0,    0,    0,\n",
       "           0,    0,    0,    0,    0,    0,    0,    0,    0,    0,    0,\n",
       "           0,    0,    0,    0,    0,    0,    0,    0,    0,    0,    0,\n",
       "           0,    0,    0,    0,    0,    0,    0,    0,    0,    0,    0,\n",
       "           0,    0,    0,    0,    0,    0,    0,    0,    0,    0,    0,\n",
       "           0,    0,    0,    0,    0,    0,    0,    0,    0,    0,    0,\n",
       "           0,    0,    0,    0,    0,    0,    0,    0,    0,    0,    0,\n",
       "           0,    0,    0,    0,    0,    0,    0,    0,    0,    0,    0,\n",
       "           0,    0,    0,    0,    0,    0,    0,    0,    0,    0,    0,\n",
       "           0,    0,    0,    0,    0,    0,    0,    0,    0,    0,    0,\n",
       "           0,    0,    0,    0,    0,    0,    0,    0,    0,    0,    0,\n",
       "           0,    0,    0,    0,    0,    0,    0,    0,    0,    0,    0,\n",
       "           0,    0,    0,    0,    0,    0,    0,    0,    0,    0,    0,\n",
       "           0,    0,    0,    0,    0,    0,    0,    0,    0,    0,    0,\n",
       "           0,    0,    0,    0,    0,    0,    0,    0,    0,    0,    0,\n",
       "           0,    0,    0,    0,    0,    0,    0,    0,    0,    0,    0,\n",
       "           0,    0,    0,    0,    0,    0,    0,    0,    0,    0,    0,\n",
       "           0,    0,    0,    0,    0,    0,    0,    0,    0,    0,    0,\n",
       "           0,    0,    0,    0,    0,    0,    0,    0,    0,    0,    0,\n",
       "           0,    0,    0,    0,    0,    0,    0,    0,    0,    0,    0,\n",
       "           0,    0,    0,    0,    0,    0,    0,    0,    0,    0,    0,\n",
       "           0,    0,    0,    0,    0,    0,    0,    0,    0,    0,    0,\n",
       "           0,    0,    0,    0,    0,    0,    0,    0,    0,    0,    0,\n",
       "           0,    0,    0,    0,    0],\n",
       "       [ 182,    8,   36,  692,   29,  182,    8,   54,    8,   11,   52,\n",
       "          34,   29,    7, 2741, 2751,  469,   34,   36,    1,    6,  442,\n",
       "          61,  642,   54,    8,   11,    1,  367,    1,  367,    1,  367,\n",
       "           1,    1,    1,    1,    1,  367,    1,    1,    1,  367,    1,\n",
       "         367,   54,    1,    1,    1,  367,    1,  367,    1,  367,    1,\n",
       "           1, 2422,    1,    1,  505,    1,  367,    1,  367,   54,    1,\n",
       "         367,    1,    1,    4,    1,    1,    1,    4,    1,  367,    1,\n",
       "         367,    1,    1,    1,    1,  942,    1,    4,    1,    1,  367,\n",
       "           1,   54,  367,    1,    1,    1,  160,  505,    1,    1,  367,\n",
       "           1,    1, 2422,    1,    1,  367,    1,    1, 2422,    1, 2422,\n",
       "           1,  505,    1,    1,    1,    1,    1,    1,    1,    1,    1,\n",
       "           1,    1,  367,    1, 1620,    1,  367,    1,    1,    1,    1,\n",
       "           1,    1,    1,    1,    1,    1,    4,    1,    1,    4,    1,\n",
       "         505,    1,    1,  367,    1,    1,    1,    1,    1,    1,  367,\n",
       "           1,  367,    1,    1,    1,   61,    8,   36,  121,   29,  973,\n",
       "          61,    8,   54,    8,   11,   52,   34, 2751,   36,  653,   29,\n",
       "          18,    1,    5,  469, 2531,    6, 2531, 2531,    5,  182,    8,\n",
       "         692,   29,   47,   44,    1,   72,    7,    4,   67,   54,    4,\n",
       "         160,  159,    6,    4,  651,    8,   11,   50,  469,   34,  642,\n",
       "          50,  642,   50,  642,    6,    1,   28,    7,    5,  442,  292,\n",
       "         119, 1480,   15,    4, 1136,    1,  215,    5,  536,  182,    8,\n",
       "          36,   48,   89,    1,  436,    1,   35,   35,    9,    1,    6,\n",
       "           1,  647,    7,   36,  813,  189,   99,   15,    4,    1,  642,\n",
       "          29,    0,    0,    0,    0,    0,    0,    0,    0,    0,    0,\n",
       "           0,    0,    0,    0,    0,    0,    0,    0,    0,    0,    0,\n",
       "           0,    0,    0,    0,    0,    0,    0,    0,    0,    0,    0,\n",
       "           0,    0,    0,    0,    0,    0,    0,    0,    0,    0,    0,\n",
       "           0,    0,    0,    0,    0,    0,    0,    0,    0,    0,    0,\n",
       "           0,    0,    0,    0,    0,    0,    0,    0,    0,    0,    0,\n",
       "           0,    0,    0,    0,    0,    0,    0,    0,    0,    0,    0,\n",
       "           0,    0,    0,    0,    0,    0,    0,    0,    0,    0,    0,\n",
       "           0,    0,    0,    0,    0,    0,    0,    0,    0,    0,    0,\n",
       "           0,    0,    0,    0,    0,    0,    0,    0,    0,    0,    0,\n",
       "           0,    0,    0,    0,    0,    0,    0,    0,    0,    0,    0,\n",
       "           0,    0,    0,    0,    0,    0,    0,    0,    0,    0,    0,\n",
       "           0,    0,    0,    0,    0,    0,    0,    0,    0,    0,    0,\n",
       "           0,    0,    0,    0,    0,    0,    0,    0,    0,    0,    0,\n",
       "           0,    0,    0,    0,    0,    0,    0,    0,    0,    0,    0,\n",
       "           0,    0,    0,    0,    0,    0,    0,    0,    0,    0,    0,\n",
       "           0,    0,    0,    0,    0,    0,    0,    0,    0,    0,    0,\n",
       "           0,    0,    0,    0,    0,    0,    0,    0,    0,    0,    0,\n",
       "           0,    0,    0,    0,    0,    0,    0,    0,    0,    0,    0,\n",
       "           0,    0,    0,    0,    0,    0,    0,    0,    0,    0,    0,\n",
       "           0,    0,    0,    0,    0,    0,    0,    0,    0,    0,    0,\n",
       "           0,    0,    0,    0,    0,    0,    0,    0,    0,    0,    0,\n",
       "           0,    0,    0,    0,    0]])>"
      ]
     },
     "execution_count": 13,
     "metadata": {},
     "output_type": "execute_result"
    }
   ],
   "source": [
    "sample_ds[:2]"
   ]
  },
  {
   "cell_type": "markdown",
   "id": "89fea76c-e592-4fdf-b634-4fc3b47e90a4",
   "metadata": {},
   "source": [
    "## Predict relvancy and save result to .csv"
   ]
  },
  {
   "cell_type": "code",
   "execution_count": 16,
   "id": "001e3b4c-ceda-4ddf-8497-8d1999956305",
   "metadata": {},
   "outputs": [
    {
     "name": "stdout",
     "output_type": "stream",
     "text": [
      "4/4 [==============================] - 1s 161ms/step\n",
      "4/4 [==============================] - 1s 130ms/step\n"
     ]
    }
   ],
   "source": [
    "model = tf.keras.models.load_model('3.1.2.Model2.keras')\n",
    "\n",
    "predicted_relevancy_2 = model.predict(sample_ds)"
   ]
  },
  {
   "cell_type": "code",
   "execution_count": 17,
   "id": "3136b8e7-3d99-4cad-ba32-633c047703af",
   "metadata": {},
   "outputs": [
    {
     "data": {
      "text/html": [
       "<div>\n",
       "<style scoped>\n",
       "    .dataframe tbody tr th:only-of-type {\n",
       "        vertical-align: middle;\n",
       "    }\n",
       "\n",
       "    .dataframe tbody tr th {\n",
       "        vertical-align: top;\n",
       "    }\n",
       "\n",
       "    .dataframe thead th {\n",
       "        text-align: right;\n",
       "    }\n",
       "</style>\n",
       "<table border=\"1\" class=\"dataframe\">\n",
       "  <thead>\n",
       "    <tr style=\"text-align: right;\">\n",
       "      <th></th>\n",
       "      <th>Title_Abstract</th>\n",
       "      <th>Predicted_relevancy</th>\n",
       "      <th>Predicted_relevancy_6</th>\n",
       "    </tr>\n",
       "  </thead>\n",
       "  <tbody>\n",
       "    <tr>\n",
       "      <th>1968</th>\n",
       "      <td>Method for the production of colour-and/or eff...</td>\n",
       "      <td>0.514414</td>\n",
       "      <td>0.406311</td>\n",
       "    </tr>\n",
       "    <tr>\n",
       "      <th>3928</th>\n",
       "      <td>High-strength polyurethane heavy-duty corrosio...</td>\n",
       "      <td>0.872142</td>\n",
       "      <td>0.852499</td>\n",
       "    </tr>\n",
       "    <tr>\n",
       "      <th>1071</th>\n",
       "      <td>Waterborne coating composition and process of ...</td>\n",
       "      <td>0.477848</td>\n",
       "      <td>0.541831</td>\n",
       "    </tr>\n",
       "    <tr>\n",
       "      <th>3392</th>\n",
       "      <td>Forming method for paint film and paint film a...</td>\n",
       "      <td>0.970759</td>\n",
       "      <td>0.985636</td>\n",
       "    </tr>\n",
       "    <tr>\n",
       "      <th>240</th>\n",
       "      <td>Paint composition \\rPURPOSE:To provide a paint...</td>\n",
       "      <td>0.823230</td>\n",
       "      <td>0.801666</td>\n",
       "    </tr>\n",
       "  </tbody>\n",
       "</table>\n",
       "</div>"
      ],
      "text/plain": [
       "                                         Title_Abstract  Predicted_relevancy  \\\n",
       "1968  Method for the production of colour-and/or eff...             0.514414   \n",
       "3928  High-strength polyurethane heavy-duty corrosio...             0.872142   \n",
       "1071  Waterborne coating composition and process of ...             0.477848   \n",
       "3392  Forming method for paint film and paint film a...             0.970759   \n",
       "240   Paint composition \\rPURPOSE:To provide a paint...             0.823230   \n",
       "\n",
       "      Predicted_relevancy_6  \n",
       "1968               0.406311  \n",
       "3928               0.852499  \n",
       "1071               0.541831  \n",
       "3392               0.985636  \n",
       "240                0.801666  "
      ]
     },
     "execution_count": 17,
     "metadata": {},
     "output_type": "execute_result"
    }
   ],
   "source": [
    "data_sample_prediction = pd.DataFrame(data_sample)\n",
    "data_sample_prediction['Predicted_relevancy'] = predicted_relevancy_2\n",
    "data_sample_prediction.head()"
   ]
  },
  {
   "cell_type": "code",
   "execution_count": 18,
   "id": "5ed48241-a2b0-4929-9649-da7956576650",
   "metadata": {},
   "outputs": [],
   "source": [
    "data_sample_prediction.to_csv('4.1.2.Prediction100.csv', index=False)"
   ]
  }
 ],
 "metadata": {
  "kernelspec": {
   "display_name": "anaconda-ai-2023-11",
   "language": "python",
   "name": "conda-env-anaconda-ai-2023-11-py"
  },
  "language_info": {
   "codemirror_mode": {
    "name": "ipython",
    "version": 3
   },
   "file_extension": ".py",
   "mimetype": "text/x-python",
   "name": "python",
   "nbconvert_exporter": "python",
   "pygments_lexer": "ipython3",
   "version": "3.10.13"
  }
 },
 "nbformat": 4,
 "nbformat_minor": 5
}
