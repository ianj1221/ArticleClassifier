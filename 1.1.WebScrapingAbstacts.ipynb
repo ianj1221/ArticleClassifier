{
 "cells": [
  {
   "cell_type": "markdown",
   "id": "276f2674-6142-43f5-b10b-32e34d9dc05f",
   "metadata": {},
   "source": [
    "# Web scraper to collect abstracts from Google Patents"
   ]
  },
  {
   "cell_type": "markdown",
   "id": "7e099f10-5025-48e6-89d3-0b5a869b6e68",
   "metadata": {},
   "source": [
    "Google patents provides a platform to search published patents. However the platform has excluded abstracts from the search downloads. It does allow downloads of the web address for each document.\n",
    "\n",
    "The abstract contains critical text that our model will need to predict if a document is relevant. A third party API exists for Google Patents at https://serpapi.com, but this does not scrape the full abstract.\n",
    "\n",
    "The following code utilizes a downloaded CSV of search results from Google Patents to scrape the full abstract and create a new CSV with title and abstract that can be used to create a labeled training set for NLP models downstream"
   ]
  },
  {
   "cell_type": "code",
   "execution_count": 2,
   "id": "947fd1f3-24c6-40dd-a478-60e4c83bae1b",
   "metadata": {},
   "outputs": [],
   "source": [
    "from bs4 import BeautifulSoup\n",
    "import requests\n",
    "import numpy as np\n",
    "import pandas as pd\n",
    "import time"
   ]
  },
  {
   "cell_type": "markdown",
   "id": "98374ff6-d3fc-4d6d-acab-e594f8236920",
   "metadata": {},
   "source": [
    "## Testing a single URL to extract an abstract"
   ]
  },
  {
   "cell_type": "code",
   "execution_count": 5,
   "id": "05e2f1c6-ff6a-4bce-a5e0-1f8f3de836a0",
   "metadata": {},
   "outputs": [],
   "source": [
    "base_url = 'https://patents.google.com/patent/US20230125819A1/en'"
   ]
  },
  {
   "cell_type": "code",
   "execution_count": 6,
   "id": "a0812b8e-164f-4e94-ba11-e7905ad53c1d",
   "metadata": {},
   "outputs": [
    {
     "data": {
      "text/plain": [
       "200"
      ]
     },
     "execution_count": 6,
     "metadata": {},
     "output_type": "execute_result"
    }
   ],
   "source": [
    "response = requests.get(base_url)\n",
    "response.status_code, response"
   ]
  },
  {
   "cell_type": "code",
   "execution_count": 8,
   "id": "c7f0c40d-8494-451c-84dc-83c3c75125b1",
   "metadata": {},
   "outputs": [
    {
     "data": {
      "text/plain": [
       "b'<!DOCTYPE html>\\n<html lang=\"en\">\\n  <head>\\n    <title>US20230125819A1 - Curable film-forming composit'"
      ]
     },
     "execution_count": 8,
     "metadata": {},
     "output_type": "execute_result"
    }
   ],
   "source": [
    "html = response.content\n",
    "html[:100]"
   ]
  },
  {
   "cell_type": "code",
   "execution_count": 9,
   "id": "f2e476e0-6e68-489b-a99e-f618e042a757",
   "metadata": {},
   "outputs": [],
   "source": [
    "soup = BeautifulSoup(html, 'html.parser')"
   ]
  },
  {
   "cell_type": "code",
   "execution_count": 8,
   "id": "088480b7-d690-4785-901e-c8b4df04d132",
   "metadata": {},
   "outputs": [],
   "source": [
    "with open('DTM_response.html', 'wb') as file:\n",
    "    file.write(soup.prettify('utf-8'))"
   ]
  },
  {
   "cell_type": "code",
   "execution_count": 10,
   "id": "0e19462e-2658-4bd6-940b-321587deee13",
   "metadata": {},
   "outputs": [
    {
     "data": {
      "text/plain": [
       "<abstract lang=\"EN\" load-source=\"patent-office\" mxw-id=\"PA588727294\">\n",
       "<div class=\"abstract\" id=\"p-0001\" num=\"0000\">Methods of coating a substrate are disclosed. The methods comprise applying shear force to a coating composition either before or during application of the coating composition to the substrate. The coating composition comprises a water-borne or solvent-borne film-forming resin and a catalyst associated with a carrier, wherein at least some of the catalyst can be released from the carrier upon application of the shear force. Also provided are coated articles prepared by the methods.</div>\n",
       "</abstract>"
      ]
     },
     "execution_count": 10,
     "metadata": {},
     "output_type": "execute_result"
    }
   ],
   "source": [
    "abstract = soup.find('abstract')\n",
    "abstract"
   ]
  },
  {
   "cell_type": "code",
   "execution_count": 11,
   "id": "56488215-bff9-489f-af03-ac29ca7d1f5f",
   "metadata": {},
   "outputs": [
    {
     "data": {
      "text/plain": [
       "'\\nMethods of coating a substrate are disclosed. The methods comprise applying shear force to a coating composition either before or during application of the coating composition to the substrate. The coating composition comprises a water-borne or solvent-borne film-forming resin and a catalyst associated with a carrier, wherein at least some of the catalyst can be released from the carrier upon application of the shear force. Also provided are coated articles prepared by the methods.\\n'"
      ]
     },
     "execution_count": 11,
     "metadata": {},
     "output_type": "execute_result"
    }
   ],
   "source": [
    "abstract.text"
   ]
  },
  {
   "cell_type": "markdown",
   "id": "63856ec1-4daa-4127-96f4-9f2ba42a00bb",
   "metadata": {},
   "source": [
    "## Importing and cleaning the full search results\n",
    "\n",
    "The full search results of 3935 documents were downloaded from Google Patents and saved as TAC_2.xlsx"
   ]
  },
  {
   "cell_type": "code",
   "execution_count": 13,
   "id": "5cbc298d-2303-43e8-aea2-ceb7bd52881f",
   "metadata": {},
   "outputs": [
    {
     "name": "stderr",
     "output_type": "stream",
     "text": [
      "/opt/conda/envs/anaconda-ai-2023-11/lib/python3.10/site-packages/openpyxl/worksheet/_read_only.py:79: UserWarning: Unknown extension is not supported and will be removed\n",
      "  for idx, row in parser.parse():\n"
     ]
    },
    {
     "data": {
      "text/html": [
       "<div>\n",
       "<style scoped>\n",
       "    .dataframe tbody tr th:only-of-type {\n",
       "        vertical-align: middle;\n",
       "    }\n",
       "\n",
       "    .dataframe tbody tr th {\n",
       "        vertical-align: top;\n",
       "    }\n",
       "\n",
       "    .dataframe thead th {\n",
       "        text-align: right;\n",
       "    }\n",
       "</style>\n",
       "<table border=\"1\" class=\"dataframe\">\n",
       "  <thead>\n",
       "    <tr style=\"text-align: right;\">\n",
       "      <th></th>\n",
       "      <th>Master patent number</th>\n",
       "      <th>title</th>\n",
       "      <th>Abstract</th>\n",
       "      <th>assignee</th>\n",
       "      <th>inventor/author</th>\n",
       "      <th>priority date</th>\n",
       "      <th>filing/creation date</th>\n",
       "      <th>publication date</th>\n",
       "      <th>grant date</th>\n",
       "      <th>result link</th>\n",
       "      <th>representative figure link</th>\n",
       "      <th>Column1</th>\n",
       "    </tr>\n",
       "  </thead>\n",
       "  <tbody>\n",
       "    <tr>\n",
       "      <th>0</th>\n",
       "      <td>WO-2023125317-A1</td>\n",
       "      <td>Chromium-free anticorrosive coating compositio...</td>\n",
       "      <td>The present application is directed to chromiu...</td>\n",
       "      <td>Guangdong Huarun Paints Co., Ltd.</td>\n",
       "      <td>Kai He, Rong Xiong, Xi Zhao, Yu Zhang, Wenbin ...</td>\n",
       "      <td>2021-12-28</td>\n",
       "      <td>2022-12-23</td>\n",
       "      <td>2023-07-06</td>\n",
       "      <td>NaN</td>\n",
       "      <td>https://patents.google.com/patent/WO2023125317...</td>\n",
       "      <td>https://patentimages.storage.googleapis.com/be...</td>\n",
       "      <td>A two-part epoxy adhesive comprises a Part A a...</td>\n",
       "    </tr>\n",
       "    <tr>\n",
       "      <th>1</th>\n",
       "      <td>WO-2023125320-A1</td>\n",
       "      <td>Chromium-free anticorrosive coating compositio...</td>\n",
       "      <td>The present application is directed to chromiu...</td>\n",
       "      <td>Guangdong Huarun Paints Co., Ltd.</td>\n",
       "      <td>Kai He, Rong Xiong, Xi Zhao, Yu Zhang, Wenbin ...</td>\n",
       "      <td>2021-12-28</td>\n",
       "      <td>2022-12-23</td>\n",
       "      <td>2023-07-06</td>\n",
       "      <td>NaN</td>\n",
       "      <td>https://patents.google.com/patent/WO2023125320...</td>\n",
       "      <td>https://patentimages.storage.googleapis.com/63...</td>\n",
       "      <td>NaN</td>\n",
       "    </tr>\n",
       "    <tr>\n",
       "      <th>2</th>\n",
       "      <td>WO-2022256945-A1</td>\n",
       "      <td>Coatings for marine vessels that reduce cavita...</td>\n",
       "      <td>Disclosed are compositions for coating substra...</td>\n",
       "      <td>Graphite Innovation And Technologies Inc</td>\n",
       "      <td>Marciel GAIER, Ilia RODIONOV, Mohammed ALGERMOZI</td>\n",
       "      <td>2021-06-10</td>\n",
       "      <td>2022-06-10</td>\n",
       "      <td>2022-12-15</td>\n",
       "      <td>NaN</td>\n",
       "      <td>https://patents.google.com/patent/WO2022256945...</td>\n",
       "      <td>NaN</td>\n",
       "      <td>NaN</td>\n",
       "    </tr>\n",
       "    <tr>\n",
       "      <th>3</th>\n",
       "      <td>WO-2022149157-A1</td>\n",
       "      <td>Multifunctional polymer hybrid for direct to m...</td>\n",
       "      <td>A uniquely designed multifunctional polymer hy...</td>\n",
       "      <td>Asian Paints Ltd.</td>\n",
       "      <td>Vrijeshkumar SINGH, Rajeev Kumar Jain, Devchan...</td>\n",
       "      <td>2021-01-11</td>\n",
       "      <td>2021-12-15</td>\n",
       "      <td>2022-07-14</td>\n",
       "      <td>NaN</td>\n",
       "      <td>https://patents.google.com/patent/WO2022149157...</td>\n",
       "      <td>NaN</td>\n",
       "      <td>NaN</td>\n",
       "    </tr>\n",
       "    <tr>\n",
       "      <th>4</th>\n",
       "      <td>US-2023279238-A1</td>\n",
       "      <td>Chromium-free anticorrosive coating compositio...</td>\n",
       "      <td>The present application is directed to chromiu...</td>\n",
       "      <td>Guangdong Huarun Paints Co., Ltd.</td>\n",
       "      <td>Tingyu HU</td>\n",
       "      <td>2020-08-03</td>\n",
       "      <td>2021-08-03</td>\n",
       "      <td>2023-09-07</td>\n",
       "      <td>NaN</td>\n",
       "      <td>https://patents.google.com/patent/US2023027923...</td>\n",
       "      <td>https://patentimages.storage.googleapis.com/e3...</td>\n",
       "      <td>NaN</td>\n",
       "    </tr>\n",
       "  </tbody>\n",
       "</table>\n",
       "</div>"
      ],
      "text/plain": [
       "  Master patent number                                              title  \\\n",
       "0     WO-2023125317-A1  Chromium-free anticorrosive coating compositio...   \n",
       "1     WO-2023125320-A1  Chromium-free anticorrosive coating compositio...   \n",
       "2     WO-2022256945-A1  Coatings for marine vessels that reduce cavita...   \n",
       "3     WO-2022149157-A1  Multifunctional polymer hybrid for direct to m...   \n",
       "4     US-2023279238-A1  Chromium-free anticorrosive coating compositio...   \n",
       "\n",
       "                                            Abstract  \\\n",
       "0  The present application is directed to chromiu...   \n",
       "1  The present application is directed to chromiu...   \n",
       "2  Disclosed are compositions for coating substra...   \n",
       "3  A uniquely designed multifunctional polymer hy...   \n",
       "4  The present application is directed to chromiu...   \n",
       "\n",
       "                                   assignee  \\\n",
       "0         Guangdong Huarun Paints Co., Ltd.   \n",
       "1         Guangdong Huarun Paints Co., Ltd.   \n",
       "2  Graphite Innovation And Technologies Inc   \n",
       "3                         Asian Paints Ltd.   \n",
       "4         Guangdong Huarun Paints Co., Ltd.   \n",
       "\n",
       "                                     inventor/author priority date  \\\n",
       "0  Kai He, Rong Xiong, Xi Zhao, Yu Zhang, Wenbin ...    2021-12-28   \n",
       "1  Kai He, Rong Xiong, Xi Zhao, Yu Zhang, Wenbin ...    2021-12-28   \n",
       "2   Marciel GAIER, Ilia RODIONOV, Mohammed ALGERMOZI    2021-06-10   \n",
       "3  Vrijeshkumar SINGH, Rajeev Kumar Jain, Devchan...    2021-01-11   \n",
       "4                                          Tingyu HU    2020-08-03   \n",
       "\n",
       "  filing/creation date publication date grant date  \\\n",
       "0           2022-12-23       2023-07-06        NaN   \n",
       "1           2022-12-23       2023-07-06        NaN   \n",
       "2           2022-06-10       2022-12-15        NaN   \n",
       "3           2021-12-15       2022-07-14        NaN   \n",
       "4           2021-08-03       2023-09-07        NaN   \n",
       "\n",
       "                                         result link  \\\n",
       "0  https://patents.google.com/patent/WO2023125317...   \n",
       "1  https://patents.google.com/patent/WO2023125320...   \n",
       "2  https://patents.google.com/patent/WO2022256945...   \n",
       "3  https://patents.google.com/patent/WO2022149157...   \n",
       "4  https://patents.google.com/patent/US2023027923...   \n",
       "\n",
       "                          representative figure link  \\\n",
       "0  https://patentimages.storage.googleapis.com/be...   \n",
       "1  https://patentimages.storage.googleapis.com/63...   \n",
       "2                                                NaN   \n",
       "3                                                NaN   \n",
       "4  https://patentimages.storage.googleapis.com/e3...   \n",
       "\n",
       "                                             Column1  \n",
       "0  A two-part epoxy adhesive comprises a Part A a...  \n",
       "1                                                NaN  \n",
       "2                                                NaN  \n",
       "3                                                NaN  \n",
       "4                                                NaN  "
      ]
     },
     "execution_count": 13,
     "metadata": {},
     "output_type": "execute_result"
    }
   ],
   "source": [
    "data = pd.read_excel('TAC_2.xlsx')\n",
    "data.head()"
   ]
  },
  {
   "cell_type": "code",
   "execution_count": 15,
   "id": "1467dac1-58ce-47c9-b63b-4fb3f03e9df3",
   "metadata": {},
   "outputs": [
    {
     "data": {
      "text/html": [
       "<div>\n",
       "<style scoped>\n",
       "    .dataframe tbody tr th:only-of-type {\n",
       "        vertical-align: middle;\n",
       "    }\n",
       "\n",
       "    .dataframe tbody tr th {\n",
       "        vertical-align: top;\n",
       "    }\n",
       "\n",
       "    .dataframe thead th {\n",
       "        text-align: right;\n",
       "    }\n",
       "</style>\n",
       "<table border=\"1\" class=\"dataframe\">\n",
       "  <thead>\n",
       "    <tr style=\"text-align: right;\">\n",
       "      <th></th>\n",
       "      <th>Master patent number</th>\n",
       "      <th>title</th>\n",
       "      <th>Abstract</th>\n",
       "      <th>assignee</th>\n",
       "      <th>inventor/author</th>\n",
       "      <th>priority date</th>\n",
       "      <th>filing/creation date</th>\n",
       "      <th>publication date</th>\n",
       "      <th>grant date</th>\n",
       "      <th>result link</th>\n",
       "      <th>representative figure link</th>\n",
       "      <th>Column1</th>\n",
       "    </tr>\n",
       "  </thead>\n",
       "  <tbody>\n",
       "    <tr>\n",
       "      <th>count</th>\n",
       "      <td>3936</td>\n",
       "      <td>3936</td>\n",
       "      <td>71</td>\n",
       "      <td>3928</td>\n",
       "      <td>3910</td>\n",
       "      <td>3922</td>\n",
       "      <td>3932</td>\n",
       "      <td>3935</td>\n",
       "      <td>1127</td>\n",
       "      <td>3935</td>\n",
       "      <td>372</td>\n",
       "      <td>1</td>\n",
       "    </tr>\n",
       "    <tr>\n",
       "      <th>unique</th>\n",
       "      <td>3933</td>\n",
       "      <td>3367</td>\n",
       "      <td>68</td>\n",
       "      <td>1558</td>\n",
       "      <td>3602</td>\n",
       "      <td>2839</td>\n",
       "      <td>2978</td>\n",
       "      <td>2795</td>\n",
       "      <td>988</td>\n",
       "      <td>3932</td>\n",
       "      <td>371</td>\n",
       "      <td>1</td>\n",
       "    </tr>\n",
       "    <tr>\n",
       "      <th>top</th>\n",
       "      <td>WO-2004033565-A1</td>\n",
       "      <td>Coating composition</td>\n",
       "      <td>The purpose of the present invention is to pro...</td>\n",
       "      <td>Kansai Paint Co Ltd, 関西ペイント株式会社</td>\n",
       "      <td>Shigeru Nakamura, 茂 中村, Yasushi Nakao, 泰志 中尾</td>\n",
       "      <td>2013-03-15</td>\n",
       "      <td>2019-11-01</td>\n",
       "      <td>2004-04-22</td>\n",
       "      <td>2006-12-27</td>\n",
       "      <td>https://patents.google.com/patent/US2018037125...</td>\n",
       "      <td>https://patentimages.storage.googleapis.com/e3...</td>\n",
       "      <td>A two-part epoxy adhesive comprises a Part A a...</td>\n",
       "    </tr>\n",
       "    <tr>\n",
       "      <th>freq</th>\n",
       "      <td>2</td>\n",
       "      <td>60</td>\n",
       "      <td>2</td>\n",
       "      <td>250</td>\n",
       "      <td>9</td>\n",
       "      <td>8</td>\n",
       "      <td>6</td>\n",
       "      <td>7</td>\n",
       "      <td>4</td>\n",
       "      <td>2</td>\n",
       "      <td>2</td>\n",
       "      <td>1</td>\n",
       "    </tr>\n",
       "  </tbody>\n",
       "</table>\n",
       "</div>"
      ],
      "text/plain": [
       "       Master patent number                 title  \\\n",
       "count                  3936                  3936   \n",
       "unique                 3933                  3367   \n",
       "top        WO-2004033565-A1  Coating composition    \n",
       "freq                      2                    60   \n",
       "\n",
       "                                                 Abstract  \\\n",
       "count                                                  71   \n",
       "unique                                                 68   \n",
       "top     The purpose of the present invention is to pro...   \n",
       "freq                                                    2   \n",
       "\n",
       "                               assignee  \\\n",
       "count                              3928   \n",
       "unique                             1558   \n",
       "top     Kansai Paint Co Ltd, 関西ペイント株式会社   \n",
       "freq                                250   \n",
       "\n",
       "                                     inventor/author priority date  \\\n",
       "count                                           3910          3922   \n",
       "unique                                          3602          2839   \n",
       "top     Shigeru Nakamura, 茂 中村, Yasushi Nakao, 泰志 中尾    2013-03-15   \n",
       "freq                                               9             8   \n",
       "\n",
       "       filing/creation date publication date  grant date  \\\n",
       "count                  3932             3935        1127   \n",
       "unique                 2978             2795         988   \n",
       "top              2019-11-01       2004-04-22  2006-12-27   \n",
       "freq                      6                7           4   \n",
       "\n",
       "                                              result link  \\\n",
       "count                                                3935   \n",
       "unique                                               3932   \n",
       "top     https://patents.google.com/patent/US2018037125...   \n",
       "freq                                                    2   \n",
       "\n",
       "                               representative figure link  \\\n",
       "count                                                 372   \n",
       "unique                                                371   \n",
       "top     https://patentimages.storage.googleapis.com/e3...   \n",
       "freq                                                    2   \n",
       "\n",
       "                                                  Column1  \n",
       "count                                                   1  \n",
       "unique                                                  1  \n",
       "top     A two-part epoxy adhesive comprises a Part A a...  \n",
       "freq                                                    1  "
      ]
     },
     "execution_count": 15,
     "metadata": {},
     "output_type": "execute_result"
    }
   ],
   "source": [
    "data.describe()"
   ]
  },
  {
   "cell_type": "markdown",
   "id": "2dec401f-a576-4990-89be-d6af8cfeb4da",
   "metadata": {},
   "source": [
    "## Cleaning the data and testing the extraction of a URL"
   ]
  },
  {
   "cell_type": "code",
   "execution_count": 14,
   "id": "3a63fa6e-6118-44a9-b0cf-aa6c45bb72f6",
   "metadata": {},
   "outputs": [
    {
     "data": {
      "text/plain": [
       "3935"
      ]
     },
     "execution_count": 14,
     "metadata": {},
     "output_type": "execute_result"
    }
   ],
   "source": [
    "data_A_removed = data.drop(['Abstract', 'Column1'], axis = 1)\n",
    "data_A_na_removed= data_A_removed.dropna(subset='result link')\n",
    "data_A_na_removed.describe()\n",
    "data_A_na_removed.shape[0]"
   ]
  },
  {
   "cell_type": "code",
   "execution_count": 15,
   "id": "442458ad-b7e7-4314-baf1-473ad93e0948",
   "metadata": {},
   "outputs": [
    {
     "data": {
      "text/plain": [
       "'https://patents.google.com/patent/WO2023125317A1/en'"
      ]
     },
     "execution_count": 15,
     "metadata": {},
     "output_type": "execute_result"
    }
   ],
   "source": [
    "link = data_A_removed['result link'][0]\n",
    "link"
   ]
  },
  {
   "cell_type": "markdown",
   "id": "329fc8df-93f4-41c6-b67b-9ce66a59e8c5",
   "metadata": {},
   "source": [
    "## Creating a for loop to scrape the first 100 abstracts"
   ]
  },
  {
   "cell_type": "code",
   "execution_count": 16,
   "id": "f7faae0d-caaa-4f75-8b17-82cfbead915c",
   "metadata": {},
   "outputs": [],
   "source": [
    "abstract_list = []"
   ]
  },
  {
   "cell_type": "code",
   "execution_count": null,
   "id": "bb614320-f98e-4484-9627-e2f764ed1565",
   "metadata": {
    "scrolled": true
   },
   "outputs": [],
   "source": [
    "i = 0\n",
    "for link in data_A_na_removed['result link'][:100]:\n",
    "    url = link\n",
    "    response = requests.get(url)\n",
    "    if response.status_code == 200:\n",
    "        print(i, 'Status:', response.status_code, link)\n",
    "        soup = BeautifulSoup(response.content, 'html.parser')\n",
    "        abstract = soup.find('abstract')\n",
    "        \n",
    "        if abstract == None:\n",
    "            print(i, 'Status:', response.status_code, link, 'abstract not found')\n",
    "            abstract_list.append('None')\n",
    "            i = i+1\n",
    "            continue\n",
    "        else:\n",
    "            abstract_list.append(abstract.text)\n",
    "            i = i+1\n",
    "    else:\n",
    "        print(i,'Status:', response.status_code, link, 'not found')\n",
    "        abstract_list.append('None')\n",
    "        i= i+1\n",
    "        continue\n",
    "    \n",
    "    time.sleep(1) #sleep timer to prevent overloading the website\n",
    "\n",
    "abstract_df = pd.DataFrame(abstract_list)\n",
    "abstract_df.to_csv('ScrappedAbstracts.csv') #saves abstracts"
   ]
  },
  {
   "cell_type": "code",
   "execution_count": null,
   "id": "9d12e8fa-ef67-4d62-ac80-289c436a582d",
   "metadata": {
    "scrolled": true
   },
   "outputs": [],
   "source": [
    "for link in data_A_na_removed['result link'][100:1000]:\n",
    "    url = link\n",
    "    response = requests.get(url)\n",
    "    if response.status_code == 200:\n",
    "        print(i, 'Status:', response.status_code, link)\n",
    "        soup = BeautifulSoup(response.content, 'html.parser')\n",
    "        abstract = soup.find('abstract')\n",
    "        \n",
    "        if abstract == None:\n",
    "            print(i, 'Status:', response.status_code, link, 'abstract not found')\n",
    "            abstract_list.append('None')\n",
    "            i = i+1\n",
    "            continue\n",
    "        else:\n",
    "            abstract_list.append(abstract.text)\n",
    "            i = i+1\n",
    "    else:\n",
    "        print(i,'Status:', response.status_code, link, 'not found')\n",
    "        abstract_list.append('None')\n",
    "        i= i+1\n",
    "        continue\n",
    "    \n",
    "    time.sleep(1)\n",
    "#save the results\n",
    "abstract_df = pd.DataFrame(abstract_list)\n",
    "abstract_df.to_csv('ScrappedAbstracts.csv')"
   ]
  },
  {
   "cell_type": "code",
   "execution_count": null,
   "id": "0d32f3dc-8d5c-4c26-b3d5-8b052afb4a44",
   "metadata": {
    "scrolled": true
   },
   "outputs": [],
   "source": [
    "for link in data_A_na_removed['result link'][1000:2000]:\n",
    "    url = link\n",
    "    response = requests.get(url)\n",
    "    if response.status_code == 200:\n",
    "        print(i, 'Status:', response.status_code, link)\n",
    "        soup = BeautifulSoup(response.content, 'html.parser')\n",
    "        abstract = soup.find('abstract')\n",
    "        \n",
    "        if abstract == None:\n",
    "            print(i, 'Status:', response.status_code, link, 'abstract not found')\n",
    "            abstract_list.append('None')\n",
    "            i = i+1\n",
    "            continue\n",
    "        else:\n",
    "            abstract_list.append(abstract.text)\n",
    "            i = i+1\n",
    "    else:\n",
    "        print(i,'Status:', response.status_code, link, 'not found')\n",
    "        abstract_list.append('None')\n",
    "        i= i+1\n",
    "        continue\n",
    "    \n",
    "    time.sleep(1)\n",
    "#save results\n",
    "abstract_df = pd.DataFrame(abstract_list)\n",
    "abstract_df.to_csv('ScrappedAbstracts.csv')"
   ]
  },
  {
   "cell_type": "code",
   "execution_count": null,
   "id": "b85261f1-4359-46a4-b673-ac8f0fb3d503",
   "metadata": {
    "scrolled": true
   },
   "outputs": [],
   "source": [
    "for link in data_A_na_removed['result link'][2000:]:\n",
    "    url = link\n",
    "    response = requests.get(url)\n",
    "    if response.status_code == 200:\n",
    "        print(i, 'Status:', response.status_code, link)\n",
    "        soup = BeautifulSoup(response.content, 'html.parser')\n",
    "        abstract = soup.find('abstract')\n",
    "        \n",
    "        if abstract == None:\n",
    "            print(i, 'Status:', response.status_code, link, 'abstract not found')\n",
    "            abstract_list.append('None')\n",
    "            i = i+1\n",
    "            continue\n",
    "        else:\n",
    "            abstract_list.append(abstract.text)\n",
    "            i = i+1\n",
    "    else:\n",
    "        print(i,'Status:', response.status_code, link, 'not found')\n",
    "        abstract_list.append('None')\n",
    "        i= i+1\n",
    "        continue\n",
    "    \n",
    "    time.sleep(1)\n",
    "#save results and add full abstract list to the original dataframe\n",
    "abstract_df = pd.DataFrame(abstract_list)\n",
    "abstract_df.to_csv('ScrappedAbstracts.csv', index = False)\n",
    "data_A_na_removed['Abstracts'] = abstract_list\n",
    "data_A_na_removed.to_csv('TAC_scraped.csv', index = False)"
   ]
  },
  {
   "cell_type": "markdown",
   "id": "c66585a9-84fd-4c7c-85b3-951cf4e760f6",
   "metadata": {},
   "source": [
    "## Additional option to save"
   ]
  },
  {
   "cell_type": "code",
   "execution_count": 21,
   "id": "fa2f974a-e675-4108-9aca-d73561d76aff",
   "metadata": {},
   "outputs": [],
   "source": [
    "abstract_df.to_csv('ScrappedAbstracts.csv')"
   ]
  },
  {
   "cell_type": "code",
   "execution_count": null,
   "id": "4a0de4f1-5253-4da0-841a-dfd8ac1fd354",
   "metadata": {
    "scrolled": true
   },
   "outputs": [],
   "source": [
    "data_A_na_removed['Abstracts'] = abstract_list\n",
    "data_A_na_removed.to_csv('TAC_scraped.csv', index = False)"
   ]
  }
 ],
 "metadata": {
  "kernelspec": {
   "display_name": "anaconda-ai-2023-11",
   "language": "python",
   "name": "conda-env-anaconda-ai-2023-11-py"
  },
  "language_info": {
   "codemirror_mode": {
    "name": "ipython",
    "version": 3
   },
   "file_extension": ".py",
   "mimetype": "text/x-python",
   "name": "python",
   "nbconvert_exporter": "python",
   "pygments_lexer": "ipython3",
   "version": "3.10.13"
  }
 },
 "nbformat": 4,
 "nbformat_minor": 5
}
